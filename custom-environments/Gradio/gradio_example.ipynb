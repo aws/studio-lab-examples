{
 "cells": [
  {
   "cell_type": "markdown",
   "id": "b4c34b8b-d564-4531-be04-c16befbf29a5",
   "metadata": {},
   "source": [
    "## Gradio on Amazon SageMaker Studio Lab\n",
    "\n",
    "Gradio is the best way to share your machine learning model with interactive application.  \n",
    "Please refer [Gradio's home page](https://www.gradio.app/) for the detail.  \n",
    "\n",
    "In this notebook, I show how to use Gradio on Studio Lab."
   ]
  },
  {
   "cell_type": "code",
   "execution_count": null,
   "id": "0bf6aa82-b016-428d-b306-77b40234715d",
   "metadata": {
    "tags": []
   },
   "outputs": [],
   "source": [
    "import gradio as gr\n",
    "\n",
    "\n",
    "def greet(name):\n",
    "    return \"Hello \" + name + \"!\"\n",
    "\n",
    "\n",
    "demo = gr.Interface(fn=greet, inputs=\"text\", outputs=\"text\")\n",
    "port = 8080\n",
    "gr.close_all()\n",
    "root_path = f\"/studiolab/default/jupyter/proxy/{port}\""
   ]
  },
  {
   "cell_type": "code",
   "execution_count": null,
   "id": "ce493dca-2c25-4910-9989-1bab72c990b6",
   "metadata": {},
   "outputs": [],
   "source": [
    "demo.launch(server_port=8080, root_path=root_path, inline=False)"
   ]
  },
  {
   "cell_type": "markdown",
   "id": "6507280a",
   "metadata": {},
   "source": [
    "You can access the gradio from the following link. `(your_studio_lab_domain)` is your own Studio Lab domain such as `xxxxx.us-east-2.sagemaker.aws`.\n",
    "\n",
    "![your_own_domain.png](./your_own_domain.png)"
   ]
  },
  {
   "cell_type": "code",
   "execution_count": null,
   "id": "b38e0e37-3c01-4371-b631-ad8a52fc3543",
   "metadata": {
    "tags": []
   },
   "outputs": [],
   "source": [
    "print(f\"Please access https://(your_studio_lab_domain)/studiolab/default/jupyter/proxy/{port}/\")"
   ]
  }
 ],
 "metadata": {
  "kernelspec": {
   "display_name": "gradio:Python",
   "language": "python",
   "name": "conda-env-gradio-py"
  },
  "language_info": {
   "codemirror_mode": {
    "name": "ipython",
    "version": 3
   },
   "file_extension": ".py",
   "mimetype": "text/x-python",
   "name": "python",
   "nbconvert_exporter": "python",
   "pygments_lexer": "ipython3",
   "version": "3.11.4"
  }
 },
 "nbformat": 4,
 "nbformat_minor": 5
}
