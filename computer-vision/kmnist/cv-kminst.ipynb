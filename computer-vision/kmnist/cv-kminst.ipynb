{
 "cells": [
  {
   "cell_type": "markdown",
   "metadata": {},
   "source": [
    "[![Open In Studio Lab](https://studiolab.sagemaker.aws/studiolab.svg)](https://studiolab.sagemaker.aws/import/github/aws/studio-lab-examples/blob/main/computer-vision/kmnist/cv-kminst.ipynb)\n",
    "\n",
    "# Train an image classification model with PyTorch \n",
    "\n",
    "## Background\n",
    "\n",
    "Vision is responsible for 80-85 percent of our world perception. As human beings, we trivially perform classification daily on whatever data we encounter. Our brains process this visual information by firing neurons that learn through repetition.\n",
    "\n",
    "Computers can emulate this biological process using a neural network! One of the first applications of this technique was image classification.\n",
    "\n",
    "Image classification (or Image recognition) is a subdomain of computer vision. These algorithms examine an image and map predefined tags or categories to it. It learns those mappings through a model training process.  \n",
    "\n",
    "\n",
    "## Pytorch\n",
    "\n",
    "[PyTorch](https://pytorch.org/) is an open-source machine learning library based on the Torch library, used for computer vision and natural language processing applications, primarily developed by [Facebook's AI Research lab (FAIR)](https://ai.facebook.com/research/). It is free and open-source software released under the [Modified BSD license](https://github.com/pytorch/pytorch/blob/master/LICENSE).\n",
    "\n",
    "## KMINST dataset\n",
    "\n",
    "In this notebook, we will use the KMINST dataset.\n",
    "https://pytorch.org/vision/stable/datasets.html#torchvision-datasets\n",
    "    \n",
    "## Steps in this notebook\n",
    "\n",
    "The main steps are:\n",
    "1. Install packages\n",
    "1. Load dataset, what's train and test loader\n",
    "1. Print out one image from the KMINST dataset, with which library, \n",
    "1. Initiate the neural network (NN) model\n",
    "1. Train a model with config\n",
    "1. Test a model \n",
    "1. Print a figure with train and test loss\n",
    "\n",
    "For more information on neural networks and machine learning, see [AWS Machine Learning University](https://aws.amazon.com/machine-learning/mlu/).\n"
   ]
  },
  {
   "cell_type": "markdown",
   "metadata": {},
   "source": [
    "![KMIST dataset picture](https://raw.githubusercontent.com/rois-codh/kmnist/master/images/kmnist_examples.png)"
   ]
  },
  {
   "cell_type": "markdown",
   "metadata": {},
   "source": [
    "- Install Python packages for later use\n",
    "\n",
    "    - [**torch**](https://pytorch.org/) is a package that provides two high-level capabilities: Tensor computation (like NumPy) using CPU/GPU acceleration, and a strong development community.\n",
    "\n",
    "    - [**torchvision**](https://pytorch.org/vision/stable/index.html) is a package consists of popular datasets, model architectures, and common image transforms for computer vision.\n",
    "\n",
    "    - [**torchsummary**](https://pypi.org/project/torch-summary/) is a package provides \"pretty print\" functionality for models.\n",
    "    - [**matplotlib**](https://matplotlib.org/) is a package for visualizing information\n",
    "    \n",
    "Before running this notebook, you need to install the required Python packages by opening a terminal window (click on File/New/Terminal). Next, navigate to the folder containing the `env_cv.yml` file. Then execute the following commands.\n",
    "- `conda env create -f env_cv.yml`\n",
    "- `conda activate cv`\n",
    "\n",
    "After that you need to switch the notebook kernel to **.conda-cv:Python** by clicking **Kernel/Change Kernel**.."
   ]
  },
  {
   "cell_type": "code",
   "execution_count": null,
   "metadata": {},
   "outputs": [],
   "source": [
    "# Uncomment these lines if you do not want to use the env_cv.yml file\n",
    "#%pip install torch \n",
    "#%pip install torchvision\n",
    "#%pip install torchsummary\n",
    "#%pip install matplotlib\n",
    "#%pip install ipywidgets"
   ]
  },
  {
   "cell_type": "code",
   "execution_count": 1,
   "metadata": {},
   "outputs": [],
   "source": [
    "import torch\n",
    "import torchvision"
   ]
  },
  {
   "cell_type": "code",
   "execution_count": 2,
   "metadata": {},
   "outputs": [],
   "source": [
    "if torch.cuda.is_available():  \n",
    "    device = \"cuda:0\" \n",
    "else:  \n",
    "    device = \"cpu\" "
   ]
  },
  {
   "cell_type": "code",
   "execution_count": 3,
   "metadata": {},
   "outputs": [],
   "source": [
    "import os\n",
    "results_dir='results'\n",
    "if not os.path.isdir(results_dir):\n",
    "    !mkdir -p {results_dir}"
   ]
  },
  {
   "cell_type": "code",
   "execution_count": 12,
   "metadata": {},
   "outputs": [],
   "source": [
    "## Create dataloader, in PyTorch, we feed the trainer data with use of dataloader\n",
    "## We create dataloader with dataset from torchvision, \n",
    "## and we dont have to download it seperately, all automatically done\n",
    "\n",
    "# Define batch size, batch size is how much data you feed for training in one iteration\n",
    "batch_size_train = 64 # We use a small batch size here for training\n",
    "batch_size_test = 1024 #\n",
    "\n",
    "# define how image transformed\n",
    "image_transform = torchvision.transforms.Compose([\n",
    "                               torchvision.transforms.ToTensor(),\n",
    "                               torchvision.transforms.Normalize(\n",
    "                                 (0.1307,), (0.3081,))\n",
    "                             ])\n",
    "#image datasets\n",
    "train_dataset = torchvision.datasets.KMNIST('dataset/', \n",
    "                                           train=True, \n",
    "                                           download=True,\n",
    "                                           transform=image_transform)\n",
    "test_dataset = torchvision.datasets.KMNIST('dataset/', \n",
    "                                          train=False, \n",
    "                                          download=True,\n",
    "                                          transform=image_transform)\n",
    "#data loaders\n",
    "train_loader = torch.utils.data.DataLoader(train_dataset,\n",
    "                                           batch_size=batch_size_train, \n",
    "                                           shuffle=True)\n",
    "test_loader = torch.utils.data.DataLoader(test_dataset,\n",
    "                                          batch_size=batch_size_test, \n",
    "                                          shuffle=True)"
   ]
  },
  {
   "cell_type": "code",
   "execution_count": 13,
   "metadata": {},
   "outputs": [
    {
     "name": "stdout",
     "output_type": "stream",
     "text": [
      "Label: tensor(4)\n"
     ]
    },
    {
     "data": {
      "image/png": "[encoded data removed]",
      "text/plain": [
       "<Figure size 432x288 with 1 Axes>"
      ]
     },
     "metadata": {
      "needs_background": "light"
     },
     "output_type": "display_data"
    }
   ],
   "source": [
    "# import library\n",
    "\n",
    "import matplotlib.pyplot as plt\n",
    "# We can check the dataloader\n",
    "_, (example_datas, labels) = next(enumerate(test_loader))\n",
    "sample = example_datas[0][0]\n",
    "# show the data\n",
    "plt.imshow(sample, cmap='gray', interpolation='none')\n",
    "print(\"Label: \"+ str(labels[0]))"
   ]
  },
  {
   "cell_type": "code",
   "execution_count": 14,
   "metadata": {},
   "outputs": [],
   "source": [
    "## Now we can start to build our CNN model\n",
    "## We first import the pytorch nn module and optimizer\n",
    "import torch.nn as nn\n",
    "import torch.nn.functional as F\n",
    "import torch.optim as optim\n",
    "## Then define the model class\n",
    "class CNN(nn.Module):\n",
    "    def __init__(self):\n",
    "        super(CNN, self).__init__()\n",
    "        #input channel 1, output channel 10\n",
    "        self.conv1 = nn.Conv2d(1, 10, kernel_size=5, stride=1)\n",
    "        #input channel 10, output channel 20\n",
    "        self.conv2 = nn.Conv2d(10, 20, kernel_size=5, stride=1)\n",
    "        #dropout layer\n",
    "        self.conv2_drop = nn.Dropout2d()\n",
    "        #fully connected layer\n",
    "        self.fc1 = nn.Linear(320, 50)\n",
    "        self.fc2 = nn.Linear(50, 10)\n",
    "    def forward(self, x):\n",
    "        x = self.conv1(x)\n",
    "        x = F.max_pool2d(x, 2)\n",
    "        x = F.relu(x)\n",
    "        x = self.conv2(x)\n",
    "        x = self.conv2_drop(x)\n",
    "        x = F.max_pool2d(x, 2)\n",
    "        x = F.relu(x)\n",
    "        x = x.view(-1, 320)\n",
    "        x = self.fc1(x)\n",
    "        x = F.relu(x)\n",
    "        x = F.dropout(x)\n",
    "        x = self.fc2(x)\n",
    "        return F.log_softmax(x)"
   ]
  },
  {
   "cell_type": "code",
   "execution_count": 15,
   "metadata": {},
   "outputs": [],
   "source": [
    "## create model and optimizer\n",
    "learning_rate = 0.01\n",
    "momentum = 0.5\n",
    "model = CNN().to(device) #using cpu here\n",
    "optimizer = optim.SGD(model.parameters(), lr=learning_rate,\n",
    "                      momentum=momentum)"
   ]
  },
  {
   "cell_type": "code",
   "execution_count": 16,
   "metadata": {},
   "outputs": [
    {
     "name": "stdout",
     "output_type": "stream",
     "text": [
      "----------------------------------------------------------------\n",
      "        Layer (type)               Output Shape         Param #\n",
      "================================================================\n",
      "            Conv2d-1           [-1, 10, 24, 24]             260\n",
      "            Conv2d-2             [-1, 20, 8, 8]           5,020\n",
      "         Dropout2d-3             [-1, 20, 8, 8]               0\n",
      "            Linear-4                   [-1, 50]          16,050\n",
      "            Linear-5                   [-1, 10]             510\n",
      "================================================================\n",
      "Total params: 21,840\n",
      "Trainable params: 21,840\n",
      "Non-trainable params: 0\n",
      "----------------------------------------------------------------\n",
      "Input size (MB): 0.00\n",
      "Forward/backward pass size (MB): 0.06\n",
      "Params size (MB): 0.08\n",
      "Estimated Total Size (MB): 0.15\n",
      "----------------------------------------------------------------\n"
     ]
    },
    {
     "name": "stderr",
     "output_type": "stream",
     "text": [
      "/tmp/ipykernel_2236/4020281764.py:32: UserWarning: Implicit dimension choice for log_softmax has been deprecated. Change the call to include dim=X as an argument.\n",
      "  return F.log_softmax(x)\n"
     ]
    }
   ],
   "source": [
    "\n",
    "from torchsummary import summary\n",
    "summary(model, (1, 28, 28))"
   ]
  },
  {
   "cell_type": "code",
   "execution_count": 17,
   "metadata": {},
   "outputs": [],
   "source": [
    "n_epochs = 3\n",
    "log_interval = 100\n",
    "train_losses = []\n",
    "train_counter = []\n",
    "test_losses = []\n",
    "test_counter = [i*len(train_loader.dataset) for i in range(n_epochs + 1)]"
   ]
  },
  {
   "cell_type": "code",
   "execution_count": 18,
   "metadata": {},
   "outputs": [],
   "source": [
    "def train(epoch):\n",
    "    model.train()\n",
    "    for batch_idx, (data, target) in enumerate(train_loader):\n",
    "        optimizer.zero_grad()\n",
    "        if torch.cuda.is_available():  \n",
    "            output = model(data.cuda())\n",
    "            loss = F.nll_loss(output, target.cuda())\n",
    "        else:\n",
    "            output = model(data)\n",
    "            loss = F.nll_loss(output, target)\n",
    "        loss.backward()\n",
    "        optimizer.step()\n",
    "        if batch_idx % log_interval == 0:\n",
    "            print('Train Epoch: {} [{}/{} ({:.0f}%)]\\tLoss: {:.6f}'.format(\n",
    "        epoch, batch_idx * len(data), len(train_loader.dataset),\n",
    "        100. * batch_idx / len(train_loader), loss.item()))\n",
    "    train_losses.append(loss.item())\n",
    "    train_counter.append(\n",
    "        (batch_idx*64) + ((epoch-1)*len(train_loader.dataset)))\n",
    "    torch.save(model.state_dict(), './results/model.pth')\n",
    "    torch.save(optimizer.state_dict(), './results/optimizer.pth')"
   ]
  },
  {
   "cell_type": "code",
   "execution_count": 19,
   "metadata": {},
   "outputs": [],
   "source": [
    "def test():\n",
    "    model.eval()\n",
    "    test_loss = 0\n",
    "    correct = 0\n",
    "    with torch.no_grad():\n",
    "        for data, target in test_loader:\n",
    "            if torch.cuda.is_available(): \n",
    "                output = model(data.cuda())\n",
    "                test_loss += F.nll_loss(output, target.cuda(), size_average=False).item()\n",
    "                pred = output.data.max(1, keepdim=True)[1]\n",
    "                correct += pred.eq(target.cuda().data.view_as(pred)).sum()\n",
    "            else:\n",
    "                output = model(data)\n",
    "                test_loss += F.nll_loss(output, target, size_average=False).item()\n",
    "                pred = output.data.max(1, keepdim=True)[1]\n",
    "                correct += pred.eq(target.data.view_as(pred)).sum()                \n",
    "    test_loss /= len(test_loader.dataset)\n",
    "    test_losses.append(test_loss)\n",
    "    print('\\nTest set: Avg. loss: {:.4f}, Accuracy: {}/{} ({:.0f}%)\\n'.format(\n",
    "        test_loss, correct, len(test_loader.dataset),\n",
    "        100. * correct / len(test_loader.dataset)))"
   ]
  },
  {
   "cell_type": "code",
   "execution_count": 20,
   "metadata": {},
   "outputs": [
    {
     "name": "stderr",
     "output_type": "stream",
     "text": [
      "/tmp/ipykernel_2236/4020281764.py:32: UserWarning: Implicit dimension choice for log_softmax has been deprecated. Change the call to include dim=X as an argument.\n",
      "  return F.log_softmax(x)\n",
      "/home/studio-lab-user/.conda/envs/cv/lib/python3.9/site-packages/torch/nn/_reduction.py:42: UserWarning: size_average and reduce args will be deprecated, please use reduction='sum' instead.\n",
      "  warnings.warn(warning.format(ret))\n"
     ]
    },
    {
     "name": "stdout",
     "output_type": "stream",
     "text": [
      "\n",
      "Test set: Avg. loss: 2.3128, Accuracy: 1116/10000 (11%)\n",
      "\n",
      "Train Epoch: 1 [0/60000 (0%)]\tLoss: 2.340610\n",
      "Train Epoch: 1 [6400/60000 (11%)]\tLoss: 2.001754\n",
      "Train Epoch: 1 [12800/60000 (21%)]\tLoss: 1.643779\n",
      "Train Epoch: 1 [19200/60000 (32%)]\tLoss: 1.515469\n",
      "Train Epoch: 1 [25600/60000 (43%)]\tLoss: 1.375710\n",
      "Train Epoch: 1 [32000/60000 (53%)]\tLoss: 1.045141\n",
      "Train Epoch: 1 [38400/60000 (64%)]\tLoss: 1.002589\n",
      "Train Epoch: 1 [44800/60000 (75%)]\tLoss: 1.386037\n",
      "Train Epoch: 1 [51200/60000 (85%)]\tLoss: 1.052345\n",
      "Train Epoch: 1 [57600/60000 (96%)]\tLoss: 1.023880\n",
      "\n",
      "Test set: Avg. loss: 1.2883, Accuracy: 5843/10000 (58%)\n",
      "\n",
      "Train Epoch: 2 [0/60000 (0%)]\tLoss: 0.777202\n",
      "Train Epoch: 2 [6400/60000 (11%)]\tLoss: 0.865407\n",
      "Train Epoch: 2 [12800/60000 (21%)]\tLoss: 0.909203\n",
      "Train Epoch: 2 [19200/60000 (32%)]\tLoss: 0.996623\n",
      "Train Epoch: 2 [25600/60000 (43%)]\tLoss: 0.718363\n",
      "Train Epoch: 2 [32000/60000 (53%)]\tLoss: 0.992785\n",
      "Train Epoch: 2 [38400/60000 (64%)]\tLoss: 0.966162\n",
      "Train Epoch: 2 [44800/60000 (75%)]\tLoss: 0.730128\n",
      "Train Epoch: 2 [51200/60000 (85%)]\tLoss: 0.690188\n",
      "Train Epoch: 2 [57600/60000 (96%)]\tLoss: 0.975658\n",
      "\n",
      "Test set: Avg. loss: 1.0804, Accuracy: 6442/10000 (64%)\n",
      "\n",
      "Train Epoch: 3 [0/60000 (0%)]\tLoss: 0.664746\n",
      "Train Epoch: 3 [6400/60000 (11%)]\tLoss: 0.724125\n",
      "Train Epoch: 3 [12800/60000 (21%)]\tLoss: 0.733852\n",
      "Train Epoch: 3 [19200/60000 (32%)]\tLoss: 0.840492\n",
      "Train Epoch: 3 [25600/60000 (43%)]\tLoss: 0.726298\n",
      "Train Epoch: 3 [32000/60000 (53%)]\tLoss: 0.741529\n",
      "Train Epoch: 3 [38400/60000 (64%)]\tLoss: 0.630413\n",
      "Train Epoch: 3 [44800/60000 (75%)]\tLoss: 0.801318\n",
      "Train Epoch: 3 [51200/60000 (85%)]\tLoss: 0.753129\n",
      "Train Epoch: 3 [57600/60000 (96%)]\tLoss: 0.709658\n",
      "\n",
      "Test set: Avg. loss: 0.9515, Accuracy: 6971/10000 (70%)\n",
      "\n"
     ]
    }
   ],
   "source": [
    "test()\n",
    "for epoch in range(1, n_epochs + 1):\n",
    "    train(epoch)\n",
    "    test()"
   ]
  },
  {
   "cell_type": "code",
   "execution_count": 21,
   "metadata": {},
   "outputs": [
    {
     "data": {
      "text/plain": [
       "Text(0, 0.5, 'negative log likelihood loss')"
      ]
     },
     "execution_count": 21,
     "metadata": {},
     "output_type": "execute_result"
    },
    {
     "data": {
      "image/png": "[encoded data removed]",
      "text/plain": [
       "<Figure size 432x288 with 1 Axes>"
      ]
     },
     "metadata": {
      "needs_background": "light"
     },
     "output_type": "display_data"
    }
   ],
   "source": [
    "fig = plt.figure()\n",
    "plt.plot(train_counter, train_losses, color='blue')\n",
    "plt.scatter(test_counter, test_losses, color='red')\n",
    "plt.legend(['Train Loss', 'Test Loss'], loc='upper right')\n",
    "plt.xlabel('number of training examples seen')\n",
    "plt.ylabel('negative log likelihood loss')\n",
    "#fig"
   ]
  },
  {
   "cell_type": "code",
   "execution_count": null,
   "metadata": {},
   "outputs": [],
   "source": []
  }
 ],
 "metadata": {
  "kernelspec": {
   "display_name": "cv:Python",
   "language": "python",
   "name": "conda-env-cv-py"
  },
  "language_info": {
   "codemirror_mode": {
    "name": "ipython",
    "version": 3
   },
   "file_extension": ".py",
   "mimetype": "text/x-python",
   "name": "python",
   "nbconvert_exporter": "python",
   "pygments_lexer": "ipython3",
   "version": "3.9.7"
  }
 },
 "nbformat": 4,
 "nbformat_minor": 4
}
